{
 "cells": [
  {
   "cell_type": "code",
   "execution_count": null,
   "id": "a63f5dac-91a4-4202-a067-adb2743c1560",
   "metadata": {},
   "outputs": [],
   "source": []
  }
 ],
 "metadata": {
  "kernelspec": {
   "display_name": "",
   "name": ""
  },
  "language_info": {
   "name": ""
  }
 },
 "nbformat": 4,
 "nbformat_minor": 5
}
